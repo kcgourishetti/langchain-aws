{
 "cells": [
  {
   "cell_type": "markdown",
   "id": "835708ae-fa53-499a-9924-979edc055e4c",
   "metadata": {},
   "source": [
    "# Bedrock Agent with LangGraph\n",
    "\n",
    "In this notebook, we show how to use Bedrock agent in LangGraph using the BedrockAgentsRunnable construct. We will use the same example from the `bedrock_agent_roc` notebook i.e., we create a mortgage agent with two tools. The first tool will return the asset values of a given asset holder. The second tool will return the interest rate for a given asset holder with a given asset value.\n",
    "\n",
    "\n",
    "### Step 1: Define the tools for the agent"
   ]
  },
  {
   "cell_type": "code",
   "execution_count": 1,
   "id": "40fc563a-4e2e-4913-8bff-d6a5cfe807fc",
   "metadata": {},
   "outputs": [
    {
     "data": {
      "text/plain": [
       "[StructuredTool(name='AssetDetail::getAssetValue', description='Get the asset value for an owner id\\n\\nArgs:\\n    asset_holder_id: The asset holder id\\n\\nReturns:\\n    The asset value for the given asset holder', args_schema=<class 'pydantic.v1.main.AssetDetail::getAssetValueSchema'>, func=<function get_asset_value at 0x105c5d4c0>),\n",
       " StructuredTool(name='AssetDetail::getMortgageRate', description='Get the mortgage rate based on asset value\\n\\nArgs:\\n    asset_holder_id: The asset holder id\\n    asset_value: The value of the asset\\n\\nReturns:\\n    The interest rate for the asset holder and asset value', args_schema=<class 'pydantic.v1.main.AssetDetail::getMortgageRateSchema'>, func=<function get_mortgage_rate at 0x106e22b80>)]"
      ]
     },
     "execution_count": 1,
     "metadata": {},
     "output_type": "execute_result"
    }
   ],
   "source": [
    "from langchain_core.tools import tool\n",
    "\n",
    "@tool(\"AssetDetail::getAssetValue\")\n",
    "def get_asset_value(asset_holder_id: str) -> str:\n",
    "    \"\"\"\n",
    "        Get the asset value for an owner id\n",
    "\n",
    "        Args:\n",
    "            asset_holder_id: The asset holder id\n",
    "\n",
    "        Returns:\n",
    "            The asset value for the given asset holder\n",
    "    \n",
    "    \"\"\"\n",
    "    return f\"The total asset value for {asset_holder_id} is 100K\"\n",
    "\n",
    "@tool(\"AssetDetail::getMortgageRate\")\n",
    "def get_mortgage_rate(asset_holder_id: str, asset_value: str) -> str:\n",
    "    \"\"\"\n",
    "        Get the mortgage rate based on asset value\n",
    "\n",
    "        Args:\n",
    "            asset_holder_id: The asset holder id\n",
    "            asset_value: The value of the asset\n",
    "\n",
    "        Returns:\n",
    "            The interest rate for the asset holder and asset value\n",
    "        \n",
    "    \"\"\"\n",
    "    return (\n",
    "        f\"The mortgage rate for {asset_holder_id} \"\n",
    "        f\"with asset value of {asset_value} is 8.87%\"\n",
    "    )\n",
    "\n",
    "tools = [get_asset_value, get_mortgage_rate]\n",
    "tools"
   ]
  },
  {
   "cell_type": "markdown",
   "id": "6b3edf1b-0e55-4d9d-bb84-dfd7499b8f49",
   "metadata": {},
   "source": [
    "### Step 2: Define the foundation model and instructions for the agent"
   ]
  },
  {
   "cell_type": "code",
   "execution_count": 2,
   "id": "123395f1-7961-4f44-9cf8-466e958ef73a",
   "metadata": {},
   "outputs": [
    {
     "data": {
      "text/plain": [
       "'anthropic.claude-3-sonnet-20240229-v1:0'"
      ]
     },
     "execution_count": 2,
     "metadata": {},
     "output_type": "execute_result"
    }
   ],
   "source": [
    "foundational_model = 'anthropic.claude-3-sonnet-20240229-v1:0'\n",
    "foundational_model"
   ]
  },
  {
   "cell_type": "code",
   "execution_count": 4,
   "id": "7a4ff142-fb2a-4ee7-a471-ff2d9b324b22",
   "metadata": {},
   "outputs": [
    {
     "data": {
      "text/plain": [
       "'You are an agent who helps with getting the mortgage rate based on the current asset valuation'"
      ]
     },
     "execution_count": 4,
     "metadata": {},
     "output_type": "execute_result"
    }
   ],
   "source": [
    "instructions=\"You are an agent who helps with getting the mortgage rate based on the current asset valuation\"\n",
    "instructions"
   ]
  }
 ],
 "metadata": {
  "kernelspec": {
   "display_name": "Python 3 (ipykernel)",
   "language": "python",
   "name": "python3"
  },
  "language_info": {
   "codemirror_mode": {
    "name": "ipython",
    "version": 3
   },
   "file_extension": ".py",
   "mimetype": "text/x-python",
   "name": "python",
   "nbconvert_exporter": "python",
   "pygments_lexer": "ipython3",
   "version": "3.9.19"
  }
 },
 "nbformat": 4,
 "nbformat_minor": 5
}
