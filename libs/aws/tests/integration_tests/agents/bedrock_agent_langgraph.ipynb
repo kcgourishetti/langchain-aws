{
 "cells": [
  {
   "cell_type": "markdown",
   "id": "835708ae-fa53-499a-9924-979edc055e4c",
   "metadata": {},
   "source": [
    "# Bedrock Agent with LangGraph\n",
    "\n",
    "In this notebook, we show how to use Bedrock agent in LangGraph using the BedrockAgentsRunnable construct. Specifically, we will show how to emulate AgentExecutor with LangGraph. We will use the same example from the `bedrock_agent_roc` notebook i.e., we create a mortgage agent with two tools. The first tool will return the asset values of a given asset holder. The second tool will return the interest rate for a given asset holder with a given asset value.\n",
    "\n",
    "The Graph is a simple structure with two nodes - agent node and tools node.\n",
    "The agent node is invoked first so this is the START node. If the agent responds with RoC, then the tools node is invoked, the tool results are given to the agent and the agent is invoked again. Once there are no more tool invocations, the Graph reaches an END state. \n",
    "\n",
    "\n",
    "### Step 1: Define the tools for the agent"
   ]
  },
  {
   "cell_type": "code",
   "execution_count": 16,
   "id": "40fc563a-4e2e-4913-8bff-d6a5cfe807fc",
   "metadata": {},
   "outputs": [
    {
     "data": {
      "text/plain": [
       "[StructuredTool(name='AssetDetail::getAssetValue', description='Get the asset value for an owner id\\n\\nArgs:\\n    asset_holder_id: The asset holder id\\n\\nReturns:\\n    The asset value for the given asset holder', args_schema=<class 'pydantic.v1.main.AssetDetail::getAssetValueSchema'>, func=<function get_asset_value at 0x10f79c1f0>),\n",
       " StructuredTool(name='AssetDetail::getMortgageRate', description='Get the mortgage rate based on asset value\\n\\nArgs:\\n    asset_holder_id: The asset holder id\\n    asset_value: The value of the asset\\n\\nReturns:\\n    The interest rate for the asset holder and asset value', args_schema=<class 'pydantic.v1.main.AssetDetail::getMortgageRateSchema'>, func=<function get_mortgage_rate at 0x11e809dc0>)]"
      ]
     },
     "execution_count": 16,
     "metadata": {},
     "output_type": "execute_result"
    }
   ],
   "source": [
    "from langchain_core.tools import tool\n",
    "\n",
    "@tool(\"AssetDetail::getAssetValue\")\n",
    "def get_asset_value(asset_holder_id: str) -> str:\n",
    "    \"\"\"\n",
    "        Get the asset value for an owner id\n",
    "\n",
    "        Args:\n",
    "            asset_holder_id: The asset holder id\n",
    "\n",
    "        Returns:\n",
    "            The asset value for the given asset holder\n",
    "    \n",
    "    \"\"\"\n",
    "    return f\"The total asset value for {asset_holder_id} is 100K\"\n",
    "\n",
    "@tool(\"AssetDetail::getMortgageRate\")\n",
    "def get_mortgage_rate(asset_holder_id: str, asset_value: str) -> str:\n",
    "    \"\"\"\n",
    "        Get the mortgage rate based on asset value\n",
    "\n",
    "        Args:\n",
    "            asset_holder_id: The asset holder id\n",
    "            asset_value: The value of the asset\n",
    "\n",
    "        Returns:\n",
    "            The interest rate for the asset holder and asset value\n",
    "        \n",
    "    \"\"\"\n",
    "    return (\n",
    "        f\"The mortgage rate for {asset_holder_id} \"\n",
    "        f\"with asset value of {asset_value} is 8.87%\"\n",
    "    )\n",
    "\n",
    "tools = [get_asset_value, get_mortgage_rate]\n",
    "tools"
   ]
  },
  {
   "cell_type": "markdown",
   "id": "6b3edf1b-0e55-4d9d-bb84-dfd7499b8f49",
   "metadata": {},
   "source": [
    "### Step 2: Define the foundation model and instructions for the agent"
   ]
  },
  {
   "cell_type": "code",
   "execution_count": 17,
   "id": "123395f1-7961-4f44-9cf8-466e958ef73a",
   "metadata": {},
   "outputs": [
    {
     "data": {
      "text/plain": [
       "'anthropic.claude-3-sonnet-20240229-v1:0'"
      ]
     },
     "execution_count": 17,
     "metadata": {},
     "output_type": "execute_result"
    }
   ],
   "source": [
    "foundational_model = 'anthropic.claude-3-sonnet-20240229-v1:0'\n",
    "foundational_model"
   ]
  },
  {
   "cell_type": "code",
   "execution_count": 18,
   "id": "7a4ff142-fb2a-4ee7-a471-ff2d9b324b22",
   "metadata": {},
   "outputs": [
    {
     "data": {
      "text/plain": [
       "'You are an agent who helps with getting the mortgage rate based on the current asset valuation'"
      ]
     },
     "execution_count": 18,
     "metadata": {},
     "output_type": "execute_result"
    }
   ],
   "source": [
    "instructions=\"You are an agent who helps with getting the mortgage rate based on the current asset valuation\"\n",
    "instructions"
   ]
  },
  {
   "cell_type": "markdown",
   "id": "d7d9146a-d87e-4c7f-b675-a1f09ad6e54d",
   "metadata": {},
   "source": [
    "### Step 3: Define the resource role to use with the Bedrock Agent"
   ]
  },
  {
   "cell_type": "code",
   "execution_count": 19,
   "id": "e6ebec49-07b8-49ca-a1a1-515084dd23c8",
   "metadata": {},
   "outputs": [
    {
     "data": {
      "text/plain": [
       "'arn:aws:iam::058264503912:role/bedrock_agent_632274c9-e14d-4c84-af81-f57ea73979eb'"
      ]
     },
     "execution_count": 19,
     "metadata": {},
     "output_type": "execute_result"
    }
   ],
   "source": [
    "import boto3\n",
    "import json\n",
    "import time\n",
    "import uuid\n",
    "\n",
    "def _create_agent_role(\n",
    "        agent_region,\n",
    "        foundational_model\n",
    ") -> str:\n",
    "    \"\"\"\n",
    "    Create agent resource role prior to creation of agent, at this point we do not have agentId, keep it as wildcard\n",
    "\n",
    "    Args:\n",
    "        agent_region: AWS region in which is the Agent if available\n",
    "        foundational_model: The model used for inference in AWS BedrockAgents\n",
    "    Returns:\n",
    "       Agent execution role arn\n",
    "    \"\"\"\n",
    "    try:\n",
    "        account_id = boto3.client('sts').get_caller_identity().get('Account')\n",
    "        assume_role_policy_document = json.dumps({\n",
    "            \"Version\": \"2012-10-17\",\n",
    "            \"Statement\": [\n",
    "                {\n",
    "                    \"Effect\": \"Allow\",\n",
    "                    \"Principal\": {\n",
    "                        \"Service\": \"bedrock.amazonaws.com\"\n",
    "                    },\n",
    "                    \"Action\": \"sts:AssumeRole\",\n",
    "                    \"Condition\": {\n",
    "                        \"ArnLike\": {\n",
    "                            \"aws:SourceArn\": f\"arn:aws:bedrock:{agent_region}:{account_id}:agent/*\"\n",
    "                        }\n",
    "                    }\n",
    "                }\n",
    "            ]\n",
    "        })\n",
    "        managed_policy = {\n",
    "            \"Version\": \"2012-10-17\",\n",
    "            \"Statement\": [\n",
    "                {\n",
    "                    \"Sid\": \"AmazonBedrockAgentBedrockFoundationModelStatement\",\n",
    "                    \"Effect\": \"Allow\",\n",
    "                    \"Action\": \"bedrock:InvokeModel\",\n",
    "                    \"Resource\": [\n",
    "                        f\"arn:aws:bedrock:{agent_region}::foundation-model/{foundational_model}\"\n",
    "                    ]\n",
    "                }\n",
    "            ]\n",
    "        }\n",
    "        role_name = f'bedrock_agent_{uuid.uuid4()}'\n",
    "        iam_client = boto3.client('iam')\n",
    "        response = iam_client.create_role(\n",
    "            RoleName=role_name,\n",
    "            AssumeRolePolicyDocument=assume_role_policy_document,\n",
    "            Description='Role for Bedrock Agent'\n",
    "        )\n",
    "        iam_client.put_role_policy(\n",
    "            RoleName=role_name,\n",
    "            PolicyName=f'AmazonBedrockAgentBedrockFoundationModelPolicy_{uuid.uuid4()}',\n",
    "            PolicyDocument=json.dumps(managed_policy)\n",
    "        )\n",
    "        time.sleep(2)\n",
    "        return response.get('Role', {}).get('Arn', '')\n",
    "\n",
    "    except Exception as exception:\n",
    "        raise exception\n",
    "\n",
    "agent_resource_role_arn = _create_agent_role(\n",
    "            agent_region='us-west-2',\n",
    "            foundational_model=foundational_model)\n",
    "\n",
    "agent_resource_role_arn"
   ]
  },
  {
   "cell_type": "markdown",
   "id": "bb0fa6a2-065b-4b60-aa7a-f25760c63860",
   "metadata": {},
   "source": [
    "### Step 4: Now create the Bedrock Agent"
   ]
  },
  {
   "cell_type": "code",
   "execution_count": 20,
   "id": "6a38a9d8-04f8-4470-a96a-e8376fb34f39",
   "metadata": {},
   "outputs": [
    {
     "data": {
      "text/plain": [
       "BedrockAgentsRunnable(agent_id='T5JY8RSNOJ', client=<botocore.client.AgentsforBedrockRuntime object at 0x10827a5e0>)"
      ]
     },
     "execution_count": 20,
     "metadata": {},
     "output_type": "execute_result"
    }
   ],
   "source": [
    "from langchain_aws.agents.base import BedrockAgentsRunnable\n",
    "\n",
    "agent = BedrockAgentsRunnable.create_agent(\n",
    "            agent_name=\"langgraph_interest_rate_agent\",\n",
    "            agent_resource_role_arn=agent_resource_role_arn,\n",
    "            model=foundational_model,\n",
    "            instructions=\"\"\"\n",
    "            You are an agent who helps with getting the mortgage rate based on the current asset valuation\"\"\",\n",
    "            tools=tools,\n",
    "        )\n",
    "agent"
   ]
  },
  {
   "cell_type": "markdown",
   "id": "671c9bb3-a9ee-431f-a000-63c5b66d9aa4",
   "metadata": {},
   "source": [
    "### Step 5: Define the State for your Graph"
   ]
  },
  {
   "cell_type": "code",
   "execution_count": 34,
   "id": "9529287e-1158-46fb-856e-6fd8bf3ea7f0",
   "metadata": {},
   "outputs": [],
   "source": [
    "import operator\n",
    "from typing import TypedDict, Annotated, Tuple\n",
    "from typing import Union\n",
    "from langchain_aws.agents.base import BedrockAgentAction, BedrockAgentFinish\n",
    "\n",
    "class AgentState(TypedDict):\n",
    "    \"\"\"\n",
    "        Defines the state for the Graph\n",
    "    \"\"\"\n",
    "    input: str\n",
    "    \"\"\"Input to the agent\"\"\"\n",
    "    output: Union[BedrockAgentAction, BedrockAgentFinish, None]\n",
    "    \"\"\"Output from the agent which could be either a BedrockAgentAction or BedrockAgentFinish\"\"\"\n",
    "    intermediate_steps: Annotated[list[tuple[BedrockAgentAction, str]], operator.add]\n",
    "    \"\"\"Intermediate steps which are tracked in the state\"\"\""
   ]
  },
  {
   "cell_type": "markdown",
   "id": "fc766298-6bcb-468c-bfb8-106e1f63ce57",
   "metadata": {},
   "source": [
    "### Step 6: Define the nodes for your LangGraph"
   ]
  },
  {
   "cell_type": "code",
   "execution_count": 35,
   "id": "4303ba4d-f5ea-44c0-af57-7152cfc189fb",
   "metadata": {},
   "outputs": [],
   "source": [
    "from langgraph.prebuilt.tool_executor import ToolExecutor\n",
    "\n",
    "# the agent node\n",
    "def run_agent(data):\n",
    "    agent_outcome = agent.invoke(data)\n",
    "    return {\"output\": agent_outcome}\n",
    "\n",
    "# the tools node\n",
    "tool_executor = ToolExecutor(tools)\n",
    "\n",
    "def execute_tools(data):\n",
    "    # Get the most recent output - this is the key added in the `agent` above\n",
    "    agent_action = data[\"output\"]\n",
    "    output = tool_executor.invoke(agent_action[0])\n",
    "    tuple_output = agent_action[0], output\n",
    "    print(f\"Tuple output is {tuple_output}\")\n",
    "    return {\"intermediate_steps\": [tuple_output]}"
   ]
  },
  {
   "cell_type": "markdown",
   "id": "03271938-a81a-4869-9d3d-1b58ad26af44",
   "metadata": {},
   "source": [
    "### Step 7: Define the conditional function to invoke the tool node or to reach end if there are no actions"
   ]
  },
  {
   "cell_type": "code",
   "execution_count": 36,
   "id": "591e6c3d-5237-4358-b0dc-5494b43038a5",
   "metadata": {},
   "outputs": [],
   "source": [
    "def should_continue(data):\n",
    "    output_ = data[\"output\"]\n",
    "\n",
    "    # If the agent outcome is a list of BedrockAgentActions, then we continue to tool execution\n",
    "    if isinstance(output_, list) and len(output_) > 0 and isinstance(output_[0], BedrockAgentAction):\n",
    "        return \"continue\"\n",
    "\n",
    "    # If the agent outcome is a BedrockAgentAction, then we continue to tool execution\n",
    "    if isinstance(output_, BedrockAgentAction):\n",
    "        return \"continue\"\n",
    "\n",
    "    # If the agent outcome is an AgentFinish, then we return `exit` string\n",
    "    # This will be used when setting up the graph to define the flow\n",
    "    if isinstance(output_, BedrockAgentFinish):\n",
    "        return \"end\"\n",
    "\n",
    "    # Unknown output from the agent, end the graph\n",
    "    return \"end\""
   ]
  },
  {
   "cell_type": "markdown",
   "id": "d78b1c2b-9365-4557-a68a-da570d2e3968",
   "metadata": {},
   "source": [
    "### Step 8: Finally, build the graph"
   ]
  },
  {
   "cell_type": "code",
   "execution_count": 39,
   "id": "12dbd3d3-0f2c-4ed2-9d6d-62f4ba235884",
   "metadata": {},
   "outputs": [],
   "source": [
    "from langgraph.graph import END, StateGraph, START\n",
    "\n",
    "workflow = StateGraph(AgentState)\n",
    "\n",
    "# Define the two nodes we will cycle between\n",
    "workflow.add_node(\"agent\", run_agent)\n",
    "workflow.add_node(\"action\", execute_tools)\n",
    "\n",
    "# Set the entrypoint as `agent`\n",
    "# This means that this node is the first one called\n",
    "workflow.add_edge(START, \"agent\")\n",
    "\n",
    "# We now add a conditional edge\n",
    "workflow.add_conditional_edges(\n",
    "    # First, we define the start node. We use `agent`.\n",
    "    # This means these are the edges taken after the `agent` node is called.\n",
    "    \"agent\",\n",
    "    # Next, we pass in the function that will determine which node is called next.\n",
    "    should_continue,\n",
    "    # Finally we pass in a mapping.\n",
    "    # The keys are strings, and the values are other nodes.\n",
    "    # END is a special node marking that the graph should finish.\n",
    "    # What will happen is we will call `should_continue`, and then the output of that\n",
    "    # will be matched against the keys in this mapping.\n",
    "    # Based on which one it matches, that node will then be called.\n",
    "    {\n",
    "        # If `tools`, then we call the tool node.\n",
    "        \"continue\": \"action\",\n",
    "        # Otherwise we finish.\n",
    "        \"end\": END,\n",
    "    },\n",
    ")\n",
    "\n",
    "workflow.add_edge(\"action\", \"agent\")"
   ]
  },
  {
   "cell_type": "markdown",
   "id": "c4e0c881-6b8a-4e22-a714-88ce496b8788",
   "metadata": {},
   "source": [
    "### Step 9: Compile the graph"
   ]
  },
  {
   "cell_type": "code",
   "execution_count": 40,
   "id": "7c598814-6678-4a25-9cd0-83d52e7b8583",
   "metadata": {},
   "outputs": [
    {
     "data": {
      "text/plain": [
       "CompiledStateGraph(nodes={'__start__': PregelNode(config={'tags': ['langsmith:hidden'], 'metadata': {}, 'configurable': {}}, channels=['__start__'], triggers=['__start__'], writers=[ChannelWrite<input,output,intermediate_steps>(recurse=True, writes=[ChannelWriteEntry(channel='input', value=<object object at 0x10b08c9c0>, skip_none=False, mapper=_get_state_key(recurse=False)), ChannelWriteEntry(channel='output', value=<object object at 0x10b08c9c0>, skip_none=False, mapper=_get_state_key(recurse=False)), ChannelWriteEntry(channel='intermediate_steps', value=<object object at 0x10b08c9c0>, skip_none=False, mapper=_get_state_key(recurse=False))], require_at_least_one_of=['input', 'output', 'intermediate_steps']), ChannelWrite<start:agent>(recurse=True, writes=[ChannelWriteEntry(channel='start:agent', value='__start__', skip_none=False, mapper=None)], require_at_least_one_of=None)]), 'agent': PregelNode(config={'tags': [], 'metadata': {}, 'configurable': {}}, channels={'input': 'input', 'output': 'output', 'intermediate_steps': 'intermediate_steps'}, triggers=['action', 'start:agent'], mapper=functools.partial(<function _coerce_state at 0x10f76ddc0>, <class '__main__.AgentState'>), writers=[ChannelWrite<agent,input,output,intermediate_steps>(recurse=True, writes=[ChannelWriteEntry(channel='agent', value='agent', skip_none=False, mapper=None), ChannelWriteEntry(channel='input', value=<object object at 0x10b08c9c0>, skip_none=False, mapper=_get_state_key(recurse=False)), ChannelWriteEntry(channel='output', value=<object object at 0x10b08c9c0>, skip_none=False, mapper=_get_state_key(recurse=False)), ChannelWriteEntry(channel='intermediate_steps', value=<object object at 0x10b08c9c0>, skip_none=False, mapper=_get_state_key(recurse=False))], require_at_least_one_of=['input', 'output', 'intermediate_steps']), _route(recurse=True, _is_channel_writer=True)]), 'action': PregelNode(config={'tags': [], 'metadata': {}, 'configurable': {}}, channels={'input': 'input', 'output': 'output', 'intermediate_steps': 'intermediate_steps'}, triggers=['branch:agent:should_continue:action'], mapper=functools.partial(<function _coerce_state at 0x10f76ddc0>, <class '__main__.AgentState'>), writers=[ChannelWrite<action,input,output,intermediate_steps>(recurse=True, writes=[ChannelWriteEntry(channel='action', value='action', skip_none=False, mapper=None), ChannelWriteEntry(channel='input', value=<object object at 0x10b08c9c0>, skip_none=False, mapper=_get_state_key(recurse=False)), ChannelWriteEntry(channel='output', value=<object object at 0x10b08c9c0>, skip_none=False, mapper=_get_state_key(recurse=False)), ChannelWriteEntry(channel='intermediate_steps', value=<object object at 0x10b08c9c0>, skip_none=False, mapper=_get_state_key(recurse=False))], require_at_least_one_of=['input', 'output', 'intermediate_steps'])])}, channels={'input': <langgraph.channels.last_value.LastValue object at 0x11f5ee5e0>, 'output': <langgraph.channels.last_value.LastValue object at 0x11f5eeaf0>, 'intermediate_steps': <langgraph.channels.binop.BinaryOperatorAggregate object at 0x11f5eeca0>, '__start__': <langgraph.channels.ephemeral_value.EphemeralValue object at 0x11f5eed30>, 'agent': <langgraph.channels.ephemeral_value.EphemeralValue object at 0x11f5ee2b0>, 'action': <langgraph.channels.ephemeral_value.EphemeralValue object at 0x11f5ee250>, 'start:agent': <langgraph.channels.ephemeral_value.EphemeralValue object at 0x11f5ee130>, 'branch:agent:should_continue:action': <langgraph.channels.ephemeral_value.EphemeralValue object at 0x11f5eec70>}, auto_validate=False, stream_mode='updates', output_channels=['input', 'output', 'intermediate_steps'], stream_channels=['input', 'output', 'intermediate_steps'], input_channels='__start__', debug=True, builder=<langgraph.graph.state.StateGraph object at 0x11f5ee610>)"
      ]
     },
     "execution_count": 40,
     "metadata": {},
     "output_type": "execute_result"
    }
   ],
   "source": [
    "application = workflow.compile(debug=True)\n",
    "\n",
    "application"
   ]
  },
  {
   "cell_type": "markdown",
   "id": "54c11244-1042-496b-a7a1-fd89fe27e90d",
   "metadata": {},
   "source": [
    "### Step 10: Invoke the graph"
   ]
  },
  {
   "cell_type": "code",
   "execution_count": 41,
   "id": "540e3b1f-69a1-4336-8caf-616206394ef5",
   "metadata": {},
   "outputs": [
    {
     "name": "stdout",
     "output_type": "stream",
     "text": [
      "\u001b[36;1m\u001b[1;3m[{'step': -2}:checkpoint]\u001b[0m \u001b[1mState at the end of step {'step': -2}:\n",
      "\u001b[0m{'intermediate_steps': []}\n",
      "\u001b[36;1m\u001b[1;3m[0:tasks]\u001b[0m \u001b[1mStarting step 0 with 1 task:\n",
      "\u001b[0m- \u001b[32;1m\u001b[1;3m__start__\u001b[0m -> {'input': 'what is my mortgage rate for id AVC-1234?'}\n",
      "\u001b[36;1m\u001b[1;3m[0:writes]\u001b[0m \u001b[1mFinished step 0 with writes to 1 channel:\n",
      "\u001b[0m- \u001b[33;1m\u001b[1;3minput\u001b[0m -> 'what is my mortgage rate for id AVC-1234?'\n",
      "\u001b[36;1m\u001b[1;3m[{'step': -2}:checkpoint]\u001b[0m \u001b[1mState at the end of step {'step': -2}:\n",
      "\u001b[0m{'input': 'what is my mortgage rate for id AVC-1234?', 'intermediate_steps': []}\n",
      "\u001b[36;1m\u001b[1;3m[1:tasks]\u001b[0m \u001b[1mStarting step 1 with 1 task:\n",
      "\u001b[0m- \u001b[32;1m\u001b[1;3magent\u001b[0m -> {'input': 'what is my mortgage rate for id AVC-1234?',\n",
      " 'intermediate_steps': [],\n",
      " 'output': None}\n",
      "\u001b[36;1m\u001b[1;3m[1:writes]\u001b[0m \u001b[1mFinished step 1 with writes to 1 channel:\n",
      "\u001b[0m- \u001b[33;1m\u001b[1;3moutput\u001b[0m -> [BedrockAgentAction(tool='AssetDetail::getAssetValue', tool_input={'asset_holder_id': 'AVC-1234'}, log='{\"returnControl\": {\"invocationId\": \"b2d84cb6-6fa6-4dc1-a0cd-c9f26e9adb2a\", \"invocationInputs\": [{\"functionInvocationInput\": {\"actionGroup\": \"AssetDetail\", \"function\": \"getAssetValue\", \"parameters\": [{\"name\": \"asset_holder_id\", \"type\": \"string\", \"value\": \"AVC-1234\"}]}}]}}', session_id='43118b2b-c782-4ebb-9e9b-e1bb31eedbc1')]\n",
      "\u001b[36;1m\u001b[1;3m[{'step': -2}:checkpoint]\u001b[0m \u001b[1mState at the end of step {'step': -2}:\n",
      "\u001b[0m{'input': 'what is my mortgage rate for id AVC-1234?',\n",
      " 'intermediate_steps': [],\n",
      " 'output': [BedrockAgentAction(tool='AssetDetail::getAssetValue', tool_input={'asset_holder_id': 'AVC-1234'}, log='{\"returnControl\": {\"invocationId\": \"b2d84cb6-6fa6-4dc1-a0cd-c9f26e9adb2a\", \"invocationInputs\": [{\"functionInvocationInput\": {\"actionGroup\": \"AssetDetail\", \"function\": \"getAssetValue\", \"parameters\": [{\"name\": \"asset_holder_id\", \"type\": \"string\", \"value\": \"AVC-1234\"}]}}]}}', session_id='43118b2b-c782-4ebb-9e9b-e1bb31eedbc1')]}\n",
      "\u001b[36;1m\u001b[1;3m[2:tasks]\u001b[0m \u001b[1mStarting step 2 with 1 task:\n",
      "\u001b[0m- \u001b[32;1m\u001b[1;3maction\u001b[0m -> {'input': 'what is my mortgage rate for id AVC-1234?',\n",
      " 'intermediate_steps': [],\n",
      " 'output': [BedrockAgentAction(tool='AssetDetail::getAssetValue', tool_input={'asset_holder_id': 'AVC-1234'}, log='{\"returnControl\": {\"invocationId\": \"b2d84cb6-6fa6-4dc1-a0cd-c9f26e9adb2a\", \"invocationInputs\": [{\"functionInvocationInput\": {\"actionGroup\": \"AssetDetail\", \"function\": \"getAssetValue\", \"parameters\": [{\"name\": \"asset_holder_id\", \"type\": \"string\", \"value\": \"AVC-1234\"}]}}]}}', session_id='43118b2b-c782-4ebb-9e9b-e1bb31eedbc1')]}\n",
      "Tuple output is (BedrockAgentAction(tool='AssetDetail::getAssetValue', tool_input={'asset_holder_id': 'AVC-1234'}, log='{\"returnControl\": {\"invocationId\": \"b2d84cb6-6fa6-4dc1-a0cd-c9f26e9adb2a\", \"invocationInputs\": [{\"functionInvocationInput\": {\"actionGroup\": \"AssetDetail\", \"function\": \"getAssetValue\", \"parameters\": [{\"name\": \"asset_holder_id\", \"type\": \"string\", \"value\": \"AVC-1234\"}]}}]}}', session_id='43118b2b-c782-4ebb-9e9b-e1bb31eedbc1'), 'The total asset value for AVC-1234 is 100K')\n",
      "\u001b[36;1m\u001b[1;3m[2:writes]\u001b[0m \u001b[1mFinished step 2 with writes to 1 channel:\n",
      "\u001b[0m- \u001b[33;1m\u001b[1;3mintermediate_steps\u001b[0m -> [(BedrockAgentAction(tool='AssetDetail::getAssetValue', tool_input={'asset_holder_id': 'AVC-1234'}, log='{\"returnControl\": {\"invocationId\": \"b2d84cb6-6fa6-4dc1-a0cd-c9f26e9adb2a\", \"invocationInputs\": [{\"functionInvocationInput\": {\"actionGroup\": \"AssetDetail\", \"function\": \"getAssetValue\", \"parameters\": [{\"name\": \"asset_holder_id\", \"type\": \"string\", \"value\": \"AVC-1234\"}]}}]}}', session_id='43118b2b-c782-4ebb-9e9b-e1bb31eedbc1'),\n",
      "  'The total asset value for AVC-1234 is 100K')]\n",
      "\u001b[36;1m\u001b[1;3m[{'step': -2}:checkpoint]\u001b[0m \u001b[1mState at the end of step {'step': -2}:\n",
      "\u001b[0m{'input': 'what is my mortgage rate for id AVC-1234?',\n",
      " 'intermediate_steps': [(BedrockAgentAction(tool='AssetDetail::getAssetValue', tool_input={'asset_holder_id': 'AVC-1234'}, log='{\"returnControl\": {\"invocationId\": \"b2d84cb6-6fa6-4dc1-a0cd-c9f26e9adb2a\", \"invocationInputs\": [{\"functionInvocationInput\": {\"actionGroup\": \"AssetDetail\", \"function\": \"getAssetValue\", \"parameters\": [{\"name\": \"asset_holder_id\", \"type\": \"string\", \"value\": \"AVC-1234\"}]}}]}}', session_id='43118b2b-c782-4ebb-9e9b-e1bb31eedbc1'),\n",
      "                         'The total asset value for AVC-1234 is 100K')],\n",
      " 'output': [BedrockAgentAction(tool='AssetDetail::getAssetValue', tool_input={'asset_holder_id': 'AVC-1234'}, log='{\"returnControl\": {\"invocationId\": \"b2d84cb6-6fa6-4dc1-a0cd-c9f26e9adb2a\", \"invocationInputs\": [{\"functionInvocationInput\": {\"actionGroup\": \"AssetDetail\", \"function\": \"getAssetValue\", \"parameters\": [{\"name\": \"asset_holder_id\", \"type\": \"string\", \"value\": \"AVC-1234\"}]}}]}}', session_id='43118b2b-c782-4ebb-9e9b-e1bb31eedbc1')]}\n",
      "\u001b[36;1m\u001b[1;3m[3:tasks]\u001b[0m \u001b[1mStarting step 3 with 1 task:\n",
      "\u001b[0m- \u001b[32;1m\u001b[1;3magent\u001b[0m -> {'input': 'what is my mortgage rate for id AVC-1234?',\n",
      " 'intermediate_steps': [(BedrockAgentAction(tool='AssetDetail::getAssetValue', tool_input={'asset_holder_id': 'AVC-1234'}, log='{\"returnControl\": {\"invocationId\": \"b2d84cb6-6fa6-4dc1-a0cd-c9f26e9adb2a\", \"invocationInputs\": [{\"functionInvocationInput\": {\"actionGroup\": \"AssetDetail\", \"function\": \"getAssetValue\", \"parameters\": [{\"name\": \"asset_holder_id\", \"type\": \"string\", \"value\": \"AVC-1234\"}]}}]}}', session_id='43118b2b-c782-4ebb-9e9b-e1bb31eedbc1'),\n",
      "                         'The total asset value for AVC-1234 is 100K')],\n",
      " 'output': [BedrockAgentAction(tool='AssetDetail::getAssetValue', tool_input={'asset_holder_id': 'AVC-1234'}, log='{\"returnControl\": {\"invocationId\": \"b2d84cb6-6fa6-4dc1-a0cd-c9f26e9adb2a\", \"invocationInputs\": [{\"functionInvocationInput\": {\"actionGroup\": \"AssetDetail\", \"function\": \"getAssetValue\", \"parameters\": [{\"name\": \"asset_holder_id\", \"type\": \"string\", \"value\": \"AVC-1234\"}]}}]}}', session_id='43118b2b-c782-4ebb-9e9b-e1bb31eedbc1')]}\n",
      "\u001b[36;1m\u001b[1;3m[3:writes]\u001b[0m \u001b[1mFinished step 3 with writes to 1 channel:\n",
      "\u001b[0m- \u001b[33;1m\u001b[1;3moutput\u001b[0m -> [BedrockAgentAction(tool='AssetDetail::getMortgageRate', tool_input={'asset_value': '100K', 'asset_holder_id': 'AVC-1234'}, log='{\"returnControl\": {\"invocationId\": \"c10aafca-8901-41c3-91d7-213800f22061\", \"invocationInputs\": [{\"functionInvocationInput\": {\"actionGroup\": \"AssetDetail\", \"function\": \"getMortgageRate\", \"parameters\": [{\"name\": \"asset_value\", \"type\": \"string\", \"value\": \"100K\"}, {\"name\": \"asset_holder_id\", \"type\": \"string\", \"value\": \"AVC-1234\"}]}}]}}', session_id='43118b2b-c782-4ebb-9e9b-e1bb31eedbc1')]\n",
      "\u001b[36;1m\u001b[1;3m[{'step': -2}:checkpoint]\u001b[0m \u001b[1mState at the end of step {'step': -2}:\n",
      "\u001b[0m{'input': 'what is my mortgage rate for id AVC-1234?',\n",
      " 'intermediate_steps': [(BedrockAgentAction(tool='AssetDetail::getAssetValue', tool_input={'asset_holder_id': 'AVC-1234'}, log='{\"returnControl\": {\"invocationId\": \"b2d84cb6-6fa6-4dc1-a0cd-c9f26e9adb2a\", \"invocationInputs\": [{\"functionInvocationInput\": {\"actionGroup\": \"AssetDetail\", \"function\": \"getAssetValue\", \"parameters\": [{\"name\": \"asset_holder_id\", \"type\": \"string\", \"value\": \"AVC-1234\"}]}}]}}', session_id='43118b2b-c782-4ebb-9e9b-e1bb31eedbc1'),\n",
      "                         'The total asset value for AVC-1234 is 100K')],\n",
      " 'output': [BedrockAgentAction(tool='AssetDetail::getMortgageRate', tool_input={'asset_value': '100K', 'asset_holder_id': 'AVC-1234'}, log='{\"returnControl\": {\"invocationId\": \"c10aafca-8901-41c3-91d7-213800f22061\", \"invocationInputs\": [{\"functionInvocationInput\": {\"actionGroup\": \"AssetDetail\", \"function\": \"getMortgageRate\", \"parameters\": [{\"name\": \"asset_value\", \"type\": \"string\", \"value\": \"100K\"}, {\"name\": \"asset_holder_id\", \"type\": \"string\", \"value\": \"AVC-1234\"}]}}]}}', session_id='43118b2b-c782-4ebb-9e9b-e1bb31eedbc1')]}\n",
      "\u001b[36;1m\u001b[1;3m[4:tasks]\u001b[0m \u001b[1mStarting step 4 with 1 task:\n",
      "\u001b[0m- \u001b[32;1m\u001b[1;3maction\u001b[0m -> {'input': 'what is my mortgage rate for id AVC-1234?',\n",
      " 'intermediate_steps': [(BedrockAgentAction(tool='AssetDetail::getAssetValue', tool_input={'asset_holder_id': 'AVC-1234'}, log='{\"returnControl\": {\"invocationId\": \"b2d84cb6-6fa6-4dc1-a0cd-c9f26e9adb2a\", \"invocationInputs\": [{\"functionInvocationInput\": {\"actionGroup\": \"AssetDetail\", \"function\": \"getAssetValue\", \"parameters\": [{\"name\": \"asset_holder_id\", \"type\": \"string\", \"value\": \"AVC-1234\"}]}}]}}', session_id='43118b2b-c782-4ebb-9e9b-e1bb31eedbc1'),\n",
      "                         'The total asset value for AVC-1234 is 100K')],\n",
      " 'output': [BedrockAgentAction(tool='AssetDetail::getMortgageRate', tool_input={'asset_value': '100K', 'asset_holder_id': 'AVC-1234'}, log='{\"returnControl\": {\"invocationId\": \"c10aafca-8901-41c3-91d7-213800f22061\", \"invocationInputs\": [{\"functionInvocationInput\": {\"actionGroup\": \"AssetDetail\", \"function\": \"getMortgageRate\", \"parameters\": [{\"name\": \"asset_value\", \"type\": \"string\", \"value\": \"100K\"}, {\"name\": \"asset_holder_id\", \"type\": \"string\", \"value\": \"AVC-1234\"}]}}]}}', session_id='43118b2b-c782-4ebb-9e9b-e1bb31eedbc1')]}\n",
      "Tuple output is (BedrockAgentAction(tool='AssetDetail::getMortgageRate', tool_input={'asset_value': '100K', 'asset_holder_id': 'AVC-1234'}, log='{\"returnControl\": {\"invocationId\": \"c10aafca-8901-41c3-91d7-213800f22061\", \"invocationInputs\": [{\"functionInvocationInput\": {\"actionGroup\": \"AssetDetail\", \"function\": \"getMortgageRate\", \"parameters\": [{\"name\": \"asset_value\", \"type\": \"string\", \"value\": \"100K\"}, {\"name\": \"asset_holder_id\", \"type\": \"string\", \"value\": \"AVC-1234\"}]}}]}}', session_id='43118b2b-c782-4ebb-9e9b-e1bb31eedbc1'), 'The mortgage rate for AVC-1234 with asset value of 100K is 8.87%')\n",
      "\u001b[36;1m\u001b[1;3m[4:writes]\u001b[0m \u001b[1mFinished step 4 with writes to 1 channel:\n",
      "\u001b[0m- \u001b[33;1m\u001b[1;3mintermediate_steps\u001b[0m -> [(BedrockAgentAction(tool='AssetDetail::getMortgageRate', tool_input={'asset_value': '100K', 'asset_holder_id': 'AVC-1234'}, log='{\"returnControl\": {\"invocationId\": \"c10aafca-8901-41c3-91d7-213800f22061\", \"invocationInputs\": [{\"functionInvocationInput\": {\"actionGroup\": \"AssetDetail\", \"function\": \"getMortgageRate\", \"parameters\": [{\"name\": \"asset_value\", \"type\": \"string\", \"value\": \"100K\"}, {\"name\": \"asset_holder_id\", \"type\": \"string\", \"value\": \"AVC-1234\"}]}}]}}', session_id='43118b2b-c782-4ebb-9e9b-e1bb31eedbc1'),\n",
      "  'The mortgage rate for AVC-1234 with asset value of 100K is 8.87%')]\n",
      "\u001b[36;1m\u001b[1;3m[{'step': -2}:checkpoint]\u001b[0m \u001b[1mState at the end of step {'step': -2}:\n",
      "\u001b[0m{'input': 'what is my mortgage rate for id AVC-1234?',\n",
      " 'intermediate_steps': [(BedrockAgentAction(tool='AssetDetail::getAssetValue', tool_input={'asset_holder_id': 'AVC-1234'}, log='{\"returnControl\": {\"invocationId\": \"b2d84cb6-6fa6-4dc1-a0cd-c9f26e9adb2a\", \"invocationInputs\": [{\"functionInvocationInput\": {\"actionGroup\": \"AssetDetail\", \"function\": \"getAssetValue\", \"parameters\": [{\"name\": \"asset_holder_id\", \"type\": \"string\", \"value\": \"AVC-1234\"}]}}]}}', session_id='43118b2b-c782-4ebb-9e9b-e1bb31eedbc1'),\n",
      "                         'The total asset value for AVC-1234 is 100K'),\n",
      "                        (BedrockAgentAction(tool='AssetDetail::getMortgageRate', tool_input={'asset_value': '100K', 'asset_holder_id': 'AVC-1234'}, log='{\"returnControl\": {\"invocationId\": \"c10aafca-8901-41c3-91d7-213800f22061\", \"invocationInputs\": [{\"functionInvocationInput\": {\"actionGroup\": \"AssetDetail\", \"function\": \"getMortgageRate\", \"parameters\": [{\"name\": \"asset_value\", \"type\": \"string\", \"value\": \"100K\"}, {\"name\": \"asset_holder_id\", \"type\": \"string\", \"value\": \"AVC-1234\"}]}}]}}', session_id='43118b2b-c782-4ebb-9e9b-e1bb31eedbc1'),\n",
      "                         'The mortgage rate for AVC-1234 with asset value of '\n",
      "                         '100K is 8.87%')],\n",
      " 'output': [BedrockAgentAction(tool='AssetDetail::getMortgageRate', tool_input={'asset_value': '100K', 'asset_holder_id': 'AVC-1234'}, log='{\"returnControl\": {\"invocationId\": \"c10aafca-8901-41c3-91d7-213800f22061\", \"invocationInputs\": [{\"functionInvocationInput\": {\"actionGroup\": \"AssetDetail\", \"function\": \"getMortgageRate\", \"parameters\": [{\"name\": \"asset_value\", \"type\": \"string\", \"value\": \"100K\"}, {\"name\": \"asset_holder_id\", \"type\": \"string\", \"value\": \"AVC-1234\"}]}}]}}', session_id='43118b2b-c782-4ebb-9e9b-e1bb31eedbc1')]}\n",
      "\u001b[36;1m\u001b[1;3m[5:tasks]\u001b[0m \u001b[1mStarting step 5 with 1 task:\n",
      "\u001b[0m- \u001b[32;1m\u001b[1;3magent\u001b[0m -> {'input': 'what is my mortgage rate for id AVC-1234?',\n",
      " 'intermediate_steps': [(BedrockAgentAction(tool='AssetDetail::getAssetValue', tool_input={'asset_holder_id': 'AVC-1234'}, log='{\"returnControl\": {\"invocationId\": \"b2d84cb6-6fa6-4dc1-a0cd-c9f26e9adb2a\", \"invocationInputs\": [{\"functionInvocationInput\": {\"actionGroup\": \"AssetDetail\", \"function\": \"getAssetValue\", \"parameters\": [{\"name\": \"asset_holder_id\", \"type\": \"string\", \"value\": \"AVC-1234\"}]}}]}}', session_id='43118b2b-c782-4ebb-9e9b-e1bb31eedbc1'),\n",
      "                         'The total asset value for AVC-1234 is 100K'),\n",
      "                        (BedrockAgentAction(tool='AssetDetail::getMortgageRate', tool_input={'asset_value': '100K', 'asset_holder_id': 'AVC-1234'}, log='{\"returnControl\": {\"invocationId\": \"c10aafca-8901-41c3-91d7-213800f22061\", \"invocationInputs\": [{\"functionInvocationInput\": {\"actionGroup\": \"AssetDetail\", \"function\": \"getMortgageRate\", \"parameters\": [{\"name\": \"asset_value\", \"type\": \"string\", \"value\": \"100K\"}, {\"name\": \"asset_holder_id\", \"type\": \"string\", \"value\": \"AVC-1234\"}]}}]}}', session_id='43118b2b-c782-4ebb-9e9b-e1bb31eedbc1'),\n",
      "                         'The mortgage rate for AVC-1234 with asset value of '\n",
      "                         '100K is 8.87%')],\n",
      " 'output': [BedrockAgentAction(tool='AssetDetail::getMortgageRate', tool_input={'asset_value': '100K', 'asset_holder_id': 'AVC-1234'}, log='{\"returnControl\": {\"invocationId\": \"c10aafca-8901-41c3-91d7-213800f22061\", \"invocationInputs\": [{\"functionInvocationInput\": {\"actionGroup\": \"AssetDetail\", \"function\": \"getMortgageRate\", \"parameters\": [{\"name\": \"asset_value\", \"type\": \"string\", \"value\": \"100K\"}, {\"name\": \"asset_holder_id\", \"type\": \"string\", \"value\": \"AVC-1234\"}]}}]}}', session_id='43118b2b-c782-4ebb-9e9b-e1bb31eedbc1')]}\n",
      "\u001b[36;1m\u001b[1;3m[5:writes]\u001b[0m \u001b[1mFinished step 5 with writes to 1 channel:\n",
      "\u001b[0m- \u001b[33;1m\u001b[1;3moutput\u001b[0m -> BedrockAgentFinish(return_values={'output': 'The mortgage rate for the asset holder with id AVC-1234 is 8.87%'}, log='The mortgage rate for the asset holder with id AVC-1234 is 8.87%', session_id='43118b2b-c782-4ebb-9e9b-e1bb31eedbc1')\n"
     ]
    },
    {
     "data": {
      "text/plain": [
       "{'input': 'what is my mortgage rate for id AVC-1234?',\n",
       " 'output': BedrockAgentFinish(return_values={'output': 'The mortgage rate for the asset holder with id AVC-1234 is 8.87%'}, log='The mortgage rate for the asset holder with id AVC-1234 is 8.87%', session_id='43118b2b-c782-4ebb-9e9b-e1bb31eedbc1'),\n",
       " 'intermediate_steps': [(BedrockAgentAction(tool='AssetDetail::getAssetValue', tool_input={'asset_holder_id': 'AVC-1234'}, log='{\"returnControl\": {\"invocationId\": \"b2d84cb6-6fa6-4dc1-a0cd-c9f26e9adb2a\", \"invocationInputs\": [{\"functionInvocationInput\": {\"actionGroup\": \"AssetDetail\", \"function\": \"getAssetValue\", \"parameters\": [{\"name\": \"asset_holder_id\", \"type\": \"string\", \"value\": \"AVC-1234\"}]}}]}}', session_id='43118b2b-c782-4ebb-9e9b-e1bb31eedbc1'),\n",
       "   'The total asset value for AVC-1234 is 100K'),\n",
       "  (BedrockAgentAction(tool='AssetDetail::getMortgageRate', tool_input={'asset_value': '100K', 'asset_holder_id': 'AVC-1234'}, log='{\"returnControl\": {\"invocationId\": \"c10aafca-8901-41c3-91d7-213800f22061\", \"invocationInputs\": [{\"functionInvocationInput\": {\"actionGroup\": \"AssetDetail\", \"function\": \"getMortgageRate\", \"parameters\": [{\"name\": \"asset_value\", \"type\": \"string\", \"value\": \"100K\"}, {\"name\": \"asset_holder_id\", \"type\": \"string\", \"value\": \"AVC-1234\"}]}}]}}', session_id='43118b2b-c782-4ebb-9e9b-e1bb31eedbc1'),\n",
       "   'The mortgage rate for AVC-1234 with asset value of 100K is 8.87%')]}"
      ]
     },
     "execution_count": 41,
     "metadata": {},
     "output_type": "execute_result"
    }
   ],
   "source": [
    "inputs = {\"input\": \"what is my mortgage rate for id AVC-1234?\"}\n",
    "final_state = application.invoke(inputs)\n",
    "\n",
    "final_state"
   ]
  },
  {
   "cell_type": "markdown",
   "id": "18cba584-baa5-474c-ae03-1151f4272fc4",
   "metadata": {},
   "source": [
    "### Step 11: Cleanup"
   ]
  },
  {
   "cell_type": "code",
   "execution_count": 42,
   "id": "e2c5972b-566d-4fb8-b19f-c924a709ba23",
   "metadata": {},
   "outputs": [],
   "source": [
    "def delete_agent_role(agent_resource_role_arn: str):\n",
    "    \"\"\"\n",
    "    Delete agent resource role\n",
    "\n",
    "    Args:\n",
    "       agent_resource_role_arn: Associated Agent execution role arn\n",
    "    \"\"\"\n",
    "    try:\n",
    "        iam_client = boto3.client('iam')\n",
    "        role_name = agent_resource_role_arn.split('/')[-1]\n",
    "        inline_policies = iam_client.list_role_policies(RoleName=role_name)\n",
    "        for inline_policy_name in inline_policies.get('PolicyNames', []):\n",
    "            iam_client.delete_role_policy(\n",
    "                RoleName=role_name,\n",
    "                PolicyName=inline_policy_name\n",
    "            )\n",
    "        iam_client.delete_role(\n",
    "            RoleName=role_name\n",
    "        )\n",
    "    except Exception as exception:\n",
    "        raise exception\n",
    "\n",
    "\n",
    "def delete_agent(agent_id):\n",
    "    bedrock_client = boto3.client('bedrock-agent')\n",
    "    bedrock_client.delete_agent(agentId=agent_id, skipResourceInUseCheck=True)\n",
    "\n",
    "\n",
    "delete_agent(agent_id=agent.agent_id)\n",
    "delete_agent_role(agent_resource_role_arn=agent_resource_role_arn)"
   ]
  }
 ],
 "metadata": {
  "kernelspec": {
   "display_name": "Python 3 (ipykernel)",
   "language": "python",
   "name": "python3"
  },
  "language_info": {
   "codemirror_mode": {
    "name": "ipython",
    "version": 3
   },
   "file_extension": ".py",
   "mimetype": "text/x-python",
   "name": "python",
   "nbconvert_exporter": "python",
   "pygments_lexer": "ipython3",
   "version": "3.9.19"
  }
 },
 "nbformat": 4,
 "nbformat_minor": 5
}
